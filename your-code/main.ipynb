{
 "cells": [
  {
   "cell_type": "markdown",
   "id": "2eaf369f",
   "metadata": {},
   "source": [
    "### Your lab resolution :"
   ]
  },
  {
   "cell_type": "markdown",
   "id": "13c02261",
   "metadata": {},
   "source": [
    "Question 1 "
   ]
  },
  {
   "cell_type": "code",
   "execution_count": 1,
   "id": "52035839",
   "metadata": {},
   "outputs": [],
   "source": [
    "import requests\n",
    "import pandas as pd\n",
    "import numpy as np\n",
    "import json\n",
    "from bs4 import BeautifulSoup\n",
    "from credentials import Git_API\n",
    "from datetime import datetime, timedelta"
   ]
  },
  {
   "cell_type": "markdown",
   "id": "dd8de922",
   "metadata": {},
   "source": [
    "## Goals\n",
    "\n",
    "### Challenge 1: Fork Languages\n",
    "\n",
    "You will find out how many programming languages are used among all the forks created from the main lab repo of your bootcamp. Assuming the main lab repo is  `ironhack-datalabs/bcn-feb-2019`, you will:\n",
    "\n",
    "1. Obtain the full list of forks created from the main lab repo via Github API.\n",
    "\n",
    "1. Loop the JSON response to find out the `language` attribute of each fork. Use an array to store the `language` attributes of each fork.\n",
    "    * *Hint: Each language should appear only once in your array.*\n",
    "\n",
    "1. Print the language array. It should be something like:\n",
    "\n",
    "\t```[\"Python\", \"Jupyter Notebook\", \"HTML\"]```"
   ]
  },
  {
   "cell_type": "code",
   "execution_count": 8,
   "id": "869d6951",
   "metadata": {},
   "outputs": [],
   "source": [
    "headers = {\"Authorization\": Git_API}"
   ]
  },
  {
   "cell_type": "code",
   "execution_count": 9,
   "id": "6c94489a",
   "metadata": {},
   "outputs": [],
   "source": [
    "url = \"https://api.github.com/repos/ironhack-datalabs/bcn-feb-2019?page=1\""
   ]
  },
  {
   "cell_type": "code",
   "execution_count": 10,
   "id": "2810ae4b",
   "metadata": {},
   "outputs": [
    {
     "data": {
      "text/plain": [
       "<Response [200]>"
      ]
     },
     "execution_count": 10,
     "metadata": {},
     "output_type": "execute_result"
    }
   ],
   "source": [
    "response = requests.get(url, headers=headers)\n",
    "response"
   ]
  },
  {
   "cell_type": "code",
   "execution_count": 11,
   "id": "392a1b9b",
   "metadata": {},
   "outputs": [
    {
     "data": {
      "text/plain": [
       "{'id': 169605092,\n",
       " 'node_id': 'MDEwOlJlcG9zaXRvcnkxNjk2MDUwOTI=',\n",
       " 'name': 'bcn-feb-2019',\n",
       " 'full_name': 'ironhack-datalabs/bcn-feb-2019',\n",
       " 'private': False,\n",
       " 'owner': {'login': 'ironhack-datalabs',\n",
       "  'id': 44225188,\n",
       "  'node_id': 'MDEyOk9yZ2FuaXphdGlvbjQ0MjI1MTg4',\n",
       "  'avatar_url': 'https://avatars.githubusercontent.com/u/44225188?v=4',\n",
       "  'gravatar_id': '',\n",
       "  'url': 'https://api.github.com/users/ironhack-datalabs',\n",
       "  'html_url': 'https://github.com/ironhack-datalabs',\n",
       "  'followers_url': 'https://api.github.com/users/ironhack-datalabs/followers',\n",
       "  'following_url': 'https://api.github.com/users/ironhack-datalabs/following{/other_user}',\n",
       "  'gists_url': 'https://api.github.com/users/ironhack-datalabs/gists{/gist_id}',\n",
       "  'starred_url': 'https://api.github.com/users/ironhack-datalabs/starred{/owner}{/repo}',\n",
       "  'subscriptions_url': 'https://api.github.com/users/ironhack-datalabs/subscriptions',\n",
       "  'organizations_url': 'https://api.github.com/users/ironhack-datalabs/orgs',\n",
       "  'repos_url': 'https://api.github.com/users/ironhack-datalabs/repos',\n",
       "  'events_url': 'https://api.github.com/users/ironhack-datalabs/events{/privacy}',\n",
       "  'received_events_url': 'https://api.github.com/users/ironhack-datalabs/received_events',\n",
       "  'type': 'Organization',\n",
       "  'site_admin': False},\n",
       " 'html_url': 'https://github.com/ironhack-datalabs/bcn-feb-2019',\n",
       " 'description': None,\n",
       " 'fork': False,\n",
       " 'url': 'https://api.github.com/repos/ironhack-datalabs/bcn-feb-2019',\n",
       " 'forks_url': 'https://api.github.com/repos/ironhack-datalabs/bcn-feb-2019/forks',\n",
       " 'keys_url': 'https://api.github.com/repos/ironhack-datalabs/bcn-feb-2019/keys{/key_id}',\n",
       " 'collaborators_url': 'https://api.github.com/repos/ironhack-datalabs/bcn-feb-2019/collaborators{/collaborator}',\n",
       " 'teams_url': 'https://api.github.com/repos/ironhack-datalabs/bcn-feb-2019/teams',\n",
       " 'hooks_url': 'https://api.github.com/repos/ironhack-datalabs/bcn-feb-2019/hooks',\n",
       " 'issue_events_url': 'https://api.github.com/repos/ironhack-datalabs/bcn-feb-2019/issues/events{/number}',\n",
       " 'events_url': 'https://api.github.com/repos/ironhack-datalabs/bcn-feb-2019/events',\n",
       " 'assignees_url': 'https://api.github.com/repos/ironhack-datalabs/bcn-feb-2019/assignees{/user}',\n",
       " 'branches_url': 'https://api.github.com/repos/ironhack-datalabs/bcn-feb-2019/branches{/branch}',\n",
       " 'tags_url': 'https://api.github.com/repos/ironhack-datalabs/bcn-feb-2019/tags',\n",
       " 'blobs_url': 'https://api.github.com/repos/ironhack-datalabs/bcn-feb-2019/git/blobs{/sha}',\n",
       " 'git_tags_url': 'https://api.github.com/repos/ironhack-datalabs/bcn-feb-2019/git/tags{/sha}',\n",
       " 'git_refs_url': 'https://api.github.com/repos/ironhack-datalabs/bcn-feb-2019/git/refs{/sha}',\n",
       " 'trees_url': 'https://api.github.com/repos/ironhack-datalabs/bcn-feb-2019/git/trees{/sha}',\n",
       " 'statuses_url': 'https://api.github.com/repos/ironhack-datalabs/bcn-feb-2019/statuses/{sha}',\n",
       " 'languages_url': 'https://api.github.com/repos/ironhack-datalabs/bcn-feb-2019/languages',\n",
       " 'stargazers_url': 'https://api.github.com/repos/ironhack-datalabs/bcn-feb-2019/stargazers',\n",
       " 'contributors_url': 'https://api.github.com/repos/ironhack-datalabs/bcn-feb-2019/contributors',\n",
       " 'subscribers_url': 'https://api.github.com/repos/ironhack-datalabs/bcn-feb-2019/subscribers',\n",
       " 'subscription_url': 'https://api.github.com/repos/ironhack-datalabs/bcn-feb-2019/subscription',\n",
       " 'commits_url': 'https://api.github.com/repos/ironhack-datalabs/bcn-feb-2019/commits{/sha}',\n",
       " 'git_commits_url': 'https://api.github.com/repos/ironhack-datalabs/bcn-feb-2019/git/commits{/sha}',\n",
       " 'comments_url': 'https://api.github.com/repos/ironhack-datalabs/bcn-feb-2019/comments{/number}',\n",
       " 'issue_comment_url': 'https://api.github.com/repos/ironhack-datalabs/bcn-feb-2019/issues/comments{/number}',\n",
       " 'contents_url': 'https://api.github.com/repos/ironhack-datalabs/bcn-feb-2019/contents/{+path}',\n",
       " 'compare_url': 'https://api.github.com/repos/ironhack-datalabs/bcn-feb-2019/compare/{base}...{head}',\n",
       " 'merges_url': 'https://api.github.com/repos/ironhack-datalabs/bcn-feb-2019/merges',\n",
       " 'archive_url': 'https://api.github.com/repos/ironhack-datalabs/bcn-feb-2019/{archive_format}{/ref}',\n",
       " 'downloads_url': 'https://api.github.com/repos/ironhack-datalabs/bcn-feb-2019/downloads',\n",
       " 'issues_url': 'https://api.github.com/repos/ironhack-datalabs/bcn-feb-2019/issues{/number}',\n",
       " 'pulls_url': 'https://api.github.com/repos/ironhack-datalabs/bcn-feb-2019/pulls{/number}',\n",
       " 'milestones_url': 'https://api.github.com/repos/ironhack-datalabs/bcn-feb-2019/milestones{/number}',\n",
       " 'notifications_url': 'https://api.github.com/repos/ironhack-datalabs/bcn-feb-2019/notifications{?since,all,participating}',\n",
       " 'labels_url': 'https://api.github.com/repos/ironhack-datalabs/bcn-feb-2019/labels{/name}',\n",
       " 'releases_url': 'https://api.github.com/repos/ironhack-datalabs/bcn-feb-2019/releases{/id}',\n",
       " 'deployments_url': 'https://api.github.com/repos/ironhack-datalabs/bcn-feb-2019/deployments',\n",
       " 'created_at': '2019-02-07T16:41:55Z',\n",
       " 'updated_at': '2019-05-23T15:59:32Z',\n",
       " 'pushed_at': '2019-02-18T22:33:04Z',\n",
       " 'git_url': 'git://github.com/ironhack-datalabs/bcn-feb-2019.git',\n",
       " 'ssh_url': 'git@github.com:ironhack-datalabs/bcn-feb-2019.git',\n",
       " 'clone_url': 'https://github.com/ironhack-datalabs/bcn-feb-2019.git',\n",
       " 'svn_url': 'https://github.com/ironhack-datalabs/bcn-feb-2019',\n",
       " 'homepage': None,\n",
       " 'size': 163749,\n",
       " 'stargazers_count': 0,\n",
       " 'watchers_count': 0,\n",
       " 'language': 'Jupyter Notebook',\n",
       " 'has_issues': True,\n",
       " 'has_projects': True,\n",
       " 'has_downloads': True,\n",
       " 'has_wiki': True,\n",
       " 'has_pages': False,\n",
       " 'has_discussions': False,\n",
       " 'forks_count': 7,\n",
       " 'mirror_url': None,\n",
       " 'archived': False,\n",
       " 'disabled': False,\n",
       " 'open_issues_count': 0,\n",
       " 'license': {'key': 'agpl-3.0',\n",
       "  'name': 'GNU Affero General Public License v3.0',\n",
       "  'spdx_id': 'AGPL-3.0',\n",
       "  'url': 'https://api.github.com/licenses/agpl-3.0',\n",
       "  'node_id': 'MDc6TGljZW5zZTE='},\n",
       " 'allow_forking': True,\n",
       " 'is_template': False,\n",
       " 'web_commit_signoff_required': False,\n",
       " 'topics': [],\n",
       " 'visibility': 'public',\n",
       " 'forks': 7,\n",
       " 'open_issues': 0,\n",
       " 'watchers': 0,\n",
       " 'default_branch': 'master',\n",
       " 'temp_clone_token': None,\n",
       " 'organization': {'login': 'ironhack-datalabs',\n",
       "  'id': 44225188,\n",
       "  'node_id': 'MDEyOk9yZ2FuaXphdGlvbjQ0MjI1MTg4',\n",
       "  'avatar_url': 'https://avatars.githubusercontent.com/u/44225188?v=4',\n",
       "  'gravatar_id': '',\n",
       "  'url': 'https://api.github.com/users/ironhack-datalabs',\n",
       "  'html_url': 'https://github.com/ironhack-datalabs',\n",
       "  'followers_url': 'https://api.github.com/users/ironhack-datalabs/followers',\n",
       "  'following_url': 'https://api.github.com/users/ironhack-datalabs/following{/other_user}',\n",
       "  'gists_url': 'https://api.github.com/users/ironhack-datalabs/gists{/gist_id}',\n",
       "  'starred_url': 'https://api.github.com/users/ironhack-datalabs/starred{/owner}{/repo}',\n",
       "  'subscriptions_url': 'https://api.github.com/users/ironhack-datalabs/subscriptions',\n",
       "  'organizations_url': 'https://api.github.com/users/ironhack-datalabs/orgs',\n",
       "  'repos_url': 'https://api.github.com/users/ironhack-datalabs/repos',\n",
       "  'events_url': 'https://api.github.com/users/ironhack-datalabs/events{/privacy}',\n",
       "  'received_events_url': 'https://api.github.com/users/ironhack-datalabs/received_events',\n",
       "  'type': 'Organization',\n",
       "  'site_admin': False},\n",
       " 'network_count': 7,\n",
       " 'subscribers_count': 3}"
      ]
     },
     "execution_count": 11,
     "metadata": {},
     "output_type": "execute_result"
    }
   ],
   "source": [
    "res = response.json()\n",
    "res"
   ]
  },
  {
   "cell_type": "code",
   "execution_count": 12,
   "id": "8e7fa3c8",
   "metadata": {},
   "outputs": [
    {
     "data": {
      "text/plain": [
       "'Jupyter Notebook'"
      ]
     },
     "execution_count": 12,
     "metadata": {},
     "output_type": "execute_result"
    }
   ],
   "source": [
    "res['language']"
   ]
  },
  {
   "cell_type": "code",
   "execution_count": 13,
   "id": "3450d0ed",
   "metadata": {},
   "outputs": [
    {
     "data": {
      "text/plain": [
       "[{'id': 169605092,\n",
       "  'node_id': 'MDEwOlJlcG9zaXRvcnkxNjk2MDUwOTI=',\n",
       "  'name': 'bcn-feb-2019',\n",
       "  'full_name': 'ironhack-datalabs/bcn-feb-2019',\n",
       "  'private': False,\n",
       "  'owner': {'login': 'ironhack-datalabs',\n",
       "   'id': 44225188,\n",
       "   'node_id': 'MDEyOk9yZ2FuaXphdGlvbjQ0MjI1MTg4',\n",
       "   'avatar_url': 'https://avatars.githubusercontent.com/u/44225188?v=4',\n",
       "   'gravatar_id': '',\n",
       "   'url': 'https://api.github.com/users/ironhack-datalabs',\n",
       "   'html_url': 'https://github.com/ironhack-datalabs',\n",
       "   'followers_url': 'https://api.github.com/users/ironhack-datalabs/followers',\n",
       "   'following_url': 'https://api.github.com/users/ironhack-datalabs/following{/other_user}',\n",
       "   'gists_url': 'https://api.github.com/users/ironhack-datalabs/gists{/gist_id}',\n",
       "   'starred_url': 'https://api.github.com/users/ironhack-datalabs/starred{/owner}{/repo}',\n",
       "   'subscriptions_url': 'https://api.github.com/users/ironhack-datalabs/subscriptions',\n",
       "   'organizations_url': 'https://api.github.com/users/ironhack-datalabs/orgs',\n",
       "   'repos_url': 'https://api.github.com/users/ironhack-datalabs/repos',\n",
       "   'events_url': 'https://api.github.com/users/ironhack-datalabs/events{/privacy}',\n",
       "   'received_events_url': 'https://api.github.com/users/ironhack-datalabs/received_events',\n",
       "   'type': 'Organization',\n",
       "   'site_admin': False},\n",
       "  'html_url': 'https://github.com/ironhack-datalabs/bcn-feb-2019',\n",
       "  'description': None,\n",
       "  'fork': False,\n",
       "  'url': 'https://api.github.com/repos/ironhack-datalabs/bcn-feb-2019',\n",
       "  'forks_url': 'https://api.github.com/repos/ironhack-datalabs/bcn-feb-2019/forks',\n",
       "  'keys_url': 'https://api.github.com/repos/ironhack-datalabs/bcn-feb-2019/keys{/key_id}',\n",
       "  'collaborators_url': 'https://api.github.com/repos/ironhack-datalabs/bcn-feb-2019/collaborators{/collaborator}',\n",
       "  'teams_url': 'https://api.github.com/repos/ironhack-datalabs/bcn-feb-2019/teams',\n",
       "  'hooks_url': 'https://api.github.com/repos/ironhack-datalabs/bcn-feb-2019/hooks',\n",
       "  'issue_events_url': 'https://api.github.com/repos/ironhack-datalabs/bcn-feb-2019/issues/events{/number}',\n",
       "  'events_url': 'https://api.github.com/repos/ironhack-datalabs/bcn-feb-2019/events',\n",
       "  'assignees_url': 'https://api.github.com/repos/ironhack-datalabs/bcn-feb-2019/assignees{/user}',\n",
       "  'branches_url': 'https://api.github.com/repos/ironhack-datalabs/bcn-feb-2019/branches{/branch}',\n",
       "  'tags_url': 'https://api.github.com/repos/ironhack-datalabs/bcn-feb-2019/tags',\n",
       "  'blobs_url': 'https://api.github.com/repos/ironhack-datalabs/bcn-feb-2019/git/blobs{/sha}',\n",
       "  'git_tags_url': 'https://api.github.com/repos/ironhack-datalabs/bcn-feb-2019/git/tags{/sha}',\n",
       "  'git_refs_url': 'https://api.github.com/repos/ironhack-datalabs/bcn-feb-2019/git/refs{/sha}',\n",
       "  'trees_url': 'https://api.github.com/repos/ironhack-datalabs/bcn-feb-2019/git/trees{/sha}',\n",
       "  'statuses_url': 'https://api.github.com/repos/ironhack-datalabs/bcn-feb-2019/statuses/{sha}',\n",
       "  'languages_url': 'https://api.github.com/repos/ironhack-datalabs/bcn-feb-2019/languages',\n",
       "  'stargazers_url': 'https://api.github.com/repos/ironhack-datalabs/bcn-feb-2019/stargazers',\n",
       "  'contributors_url': 'https://api.github.com/repos/ironhack-datalabs/bcn-feb-2019/contributors',\n",
       "  'subscribers_url': 'https://api.github.com/repos/ironhack-datalabs/bcn-feb-2019/subscribers',\n",
       "  'subscription_url': 'https://api.github.com/repos/ironhack-datalabs/bcn-feb-2019/subscription',\n",
       "  'commits_url': 'https://api.github.com/repos/ironhack-datalabs/bcn-feb-2019/commits{/sha}',\n",
       "  'git_commits_url': 'https://api.github.com/repos/ironhack-datalabs/bcn-feb-2019/git/commits{/sha}',\n",
       "  'comments_url': 'https://api.github.com/repos/ironhack-datalabs/bcn-feb-2019/comments{/number}',\n",
       "  'issue_comment_url': 'https://api.github.com/repos/ironhack-datalabs/bcn-feb-2019/issues/comments{/number}',\n",
       "  'contents_url': 'https://api.github.com/repos/ironhack-datalabs/bcn-feb-2019/contents/{+path}',\n",
       "  'compare_url': 'https://api.github.com/repos/ironhack-datalabs/bcn-feb-2019/compare/{base}...{head}',\n",
       "  'merges_url': 'https://api.github.com/repos/ironhack-datalabs/bcn-feb-2019/merges',\n",
       "  'archive_url': 'https://api.github.com/repos/ironhack-datalabs/bcn-feb-2019/{archive_format}{/ref}',\n",
       "  'downloads_url': 'https://api.github.com/repos/ironhack-datalabs/bcn-feb-2019/downloads',\n",
       "  'issues_url': 'https://api.github.com/repos/ironhack-datalabs/bcn-feb-2019/issues{/number}',\n",
       "  'pulls_url': 'https://api.github.com/repos/ironhack-datalabs/bcn-feb-2019/pulls{/number}',\n",
       "  'milestones_url': 'https://api.github.com/repos/ironhack-datalabs/bcn-feb-2019/milestones{/number}',\n",
       "  'notifications_url': 'https://api.github.com/repos/ironhack-datalabs/bcn-feb-2019/notifications{?since,all,participating}',\n",
       "  'labels_url': 'https://api.github.com/repos/ironhack-datalabs/bcn-feb-2019/labels{/name}',\n",
       "  'releases_url': 'https://api.github.com/repos/ironhack-datalabs/bcn-feb-2019/releases{/id}',\n",
       "  'deployments_url': 'https://api.github.com/repos/ironhack-datalabs/bcn-feb-2019/deployments',\n",
       "  'created_at': '2019-02-07T16:41:55Z',\n",
       "  'updated_at': '2019-05-23T15:59:32Z',\n",
       "  'pushed_at': '2019-02-18T22:33:04Z',\n",
       "  'git_url': 'git://github.com/ironhack-datalabs/bcn-feb-2019.git',\n",
       "  'ssh_url': 'git@github.com:ironhack-datalabs/bcn-feb-2019.git',\n",
       "  'clone_url': 'https://github.com/ironhack-datalabs/bcn-feb-2019.git',\n",
       "  'svn_url': 'https://github.com/ironhack-datalabs/bcn-feb-2019',\n",
       "  'homepage': None,\n",
       "  'size': 163749,\n",
       "  'stargazers_count': 0,\n",
       "  'watchers_count': 0,\n",
       "  'language': 'Jupyter Notebook',\n",
       "  'has_issues': True,\n",
       "  'has_projects': True,\n",
       "  'has_downloads': True,\n",
       "  'has_wiki': True,\n",
       "  'has_pages': False,\n",
       "  'has_discussions': False,\n",
       "  'forks_count': 7,\n",
       "  'mirror_url': None,\n",
       "  'archived': False,\n",
       "  'disabled': False,\n",
       "  'open_issues_count': 0,\n",
       "  'license': {'key': 'agpl-3.0',\n",
       "   'name': 'GNU Affero General Public License v3.0',\n",
       "   'spdx_id': 'AGPL-3.0',\n",
       "   'url': 'https://api.github.com/licenses/agpl-3.0',\n",
       "   'node_id': 'MDc6TGljZW5zZTE='},\n",
       "  'allow_forking': True,\n",
       "  'is_template': False,\n",
       "  'web_commit_signoff_required': False,\n",
       "  'topics': [],\n",
       "  'visibility': 'public',\n",
       "  'forks': 7,\n",
       "  'open_issues': 0,\n",
       "  'watchers': 0,\n",
       "  'default_branch': 'master',\n",
       "  'temp_clone_token': None,\n",
       "  'organization': {'login': 'ironhack-datalabs',\n",
       "   'id': 44225188,\n",
       "   'node_id': 'MDEyOk9yZ2FuaXphdGlvbjQ0MjI1MTg4',\n",
       "   'avatar_url': 'https://avatars.githubusercontent.com/u/44225188?v=4',\n",
       "   'gravatar_id': '',\n",
       "   'url': 'https://api.github.com/users/ironhack-datalabs',\n",
       "   'html_url': 'https://github.com/ironhack-datalabs',\n",
       "   'followers_url': 'https://api.github.com/users/ironhack-datalabs/followers',\n",
       "   'following_url': 'https://api.github.com/users/ironhack-datalabs/following{/other_user}',\n",
       "   'gists_url': 'https://api.github.com/users/ironhack-datalabs/gists{/gist_id}',\n",
       "   'starred_url': 'https://api.github.com/users/ironhack-datalabs/starred{/owner}{/repo}',\n",
       "   'subscriptions_url': 'https://api.github.com/users/ironhack-datalabs/subscriptions',\n",
       "   'organizations_url': 'https://api.github.com/users/ironhack-datalabs/orgs',\n",
       "   'repos_url': 'https://api.github.com/users/ironhack-datalabs/repos',\n",
       "   'events_url': 'https://api.github.com/users/ironhack-datalabs/events{/privacy}',\n",
       "   'received_events_url': 'https://api.github.com/users/ironhack-datalabs/received_events',\n",
       "   'type': 'Organization',\n",
       "   'site_admin': False},\n",
       "  'network_count': 7,\n",
       "  'subscribers_count': 3}]"
      ]
     },
     "execution_count": 13,
     "metadata": {},
     "output_type": "execute_result"
    }
   ],
   "source": [
    "res_lst = [res]\n",
    "res_lst"
   ]
  },
  {
   "cell_type": "code",
   "execution_count": 14,
   "id": "5e70b9f1",
   "metadata": {},
   "outputs": [
    {
     "name": "stdout",
     "output_type": "stream",
     "text": [
      "Number of forks: 7\n"
     ]
    }
   ],
   "source": [
    "# Access a top-level field\n",
    "forks = res['forks_count']\n",
    "print(f'Number of forks: {forks}')"
   ]
  },
  {
   "cell_type": "code",
   "execution_count": 15,
   "id": "1dc23f21",
   "metadata": {},
   "outputs": [
    {
     "name": "stdout",
     "output_type": "stream",
     "text": [
      "Total Language : Jupyter Notebook\n"
     ]
    }
   ],
   "source": [
    "count_language = res.get('language', [])\n",
    "print(f'Total Language : {count_language}')"
   ]
  },
  {
   "cell_type": "markdown",
   "id": "f051876f",
   "metadata": {},
   "source": [
    "### Challenge 2: Count Commits\n",
    "\n",
    "Assuming the main lab repo is `ta-data-pt-rmt/lab-mysql-first-queries`, you will count how many commits were made in the past 3 weeks:\n",
    "\n",
    "1. Obtain all the commits made in the past 3 weeks via API, which is a JSON array that contains multiple commit objects.\n",
    "\n",
    "1. Count how many commit objects are contained in the array.\n",
    "\n",
    "Notes:"
   ]
  },
  {
   "cell_type": "code",
   "execution_count": 36,
   "id": "ce1dc6e2",
   "metadata": {},
   "outputs": [],
   "source": [
    "commits_ur = 'https://api.github.com/repos/ta-data-pt-rmt/lab-mysql-first-queries/commits'"
   ]
  },
  {
   "cell_type": "code",
   "execution_count": 37,
   "id": "4acde97f",
   "metadata": {},
   "outputs": [
    {
     "data": {
      "text/plain": [
       "<Response [200]>"
      ]
     },
     "execution_count": 37,
     "metadata": {},
     "output_type": "execute_result"
    }
   ],
   "source": [
    "response_commits = requests.get(commits_ur,headers=headers)\n",
    "response_commits"
   ]
  },
  {
   "cell_type": "code",
   "execution_count": 38,
   "id": "001b5792",
   "metadata": {},
   "outputs": [
    {
     "data": {
      "text/plain": [
       "[{'sha': 'b2fb48cfae83a8fed6b62b4bcbed7e31109ad035',\n",
       "  'node_id': 'C_kwDOHB089NoAKGIyZmI0OGNmYWU4M2E4ZmVkNmI2MmI0YmNiZWQ3ZTMxMTA5YWQwMzU',\n",
       "  'commit': {'author': {'name': 'ta-data-pt-rmt',\n",
       "    'email': '99891270+ta-data-pt-rmt@users.noreply.github.com',\n",
       "    'date': '2022-03-31T18:05:34Z'},\n",
       "   'committer': {'name': 'GitHub',\n",
       "    'email': 'noreply@github.com',\n",
       "    'date': '2022-03-31T18:05:34Z'},\n",
       "   'message': 'Add files via upload\\n\\nalternative dataset, with different formatting',\n",
       "   'tree': {'sha': '9a93890ad46c565f62d5406e4b97a0355e943611',\n",
       "    'url': 'https://api.github.com/repos/ta-data-pt-rmt/lab-mysql-first-queries/git/trees/9a93890ad46c565f62d5406e4b97a0355e943611'},\n",
       "   'url': 'https://api.github.com/repos/ta-data-pt-rmt/lab-mysql-first-queries/git/commits/b2fb48cfae83a8fed6b62b4bcbed7e31109ad035',\n",
       "   'comment_count': 0,\n",
       "   'verification': {'verified': True,\n",
       "    'reason': 'valid',\n",
       "    'signature': '-----BEGIN PGP SIGNATURE-----\\n\\nwsBcBAABCAAQBQJiRe1uCRBK7hj4Ov3rIwAA0hAIAJRv/KZt2xSj6NAjwqURApd9\\nldqBhHl4AZ/vrYv/2UgvT9AxjcdkRTFfU5UzgcdBMQVNharCSO7E5O6bgGw1xgdH\\n7s+ttsYmcU/WaRjRIf7L5KGtFcYI/L6EVlZr7nBYV132UEIXvxu+yGXqm+x5ZE26\\nFt6AN30mX/4ttJKKcLfhiLS4aqUquJfal3Fr9AiVGCgHK1I4zNL/7/T4ELqSIA8X\\nNYrX2GHNyiNpM/V2bAZoPqwWwYe+7fdRI8bC+4zp8cPy0DQ0+A0+v1SqAqzBX9ea\\n0wvZQKRD5q9qcn7bXVmAP8Gh95eENg+r2NJyyltUtE5a9Ul6MohB97z1g17NOTI=\\n=uJxt\\n-----END PGP SIGNATURE-----\\n',\n",
       "    'payload': 'tree 9a93890ad46c565f62d5406e4b97a0355e943611\\nparent 0e1ba0f7d937f1a1c88f578f052803e193440c27\\nauthor ta-data-pt-rmt <99891270+ta-data-pt-rmt@users.noreply.github.com> 1648749934 +0100\\ncommitter GitHub <noreply@github.com> 1648749934 +0100\\n\\nAdd files via upload\\n\\nalternative dataset, with different formatting'}},\n",
       "  'url': 'https://api.github.com/repos/ta-data-pt-rmt/lab-mysql-first-queries/commits/b2fb48cfae83a8fed6b62b4bcbed7e31109ad035',\n",
       "  'html_url': 'https://github.com/ta-data-pt-rmt/lab-mysql-first-queries/commit/b2fb48cfae83a8fed6b62b4bcbed7e31109ad035',\n",
       "  'comments_url': 'https://api.github.com/repos/ta-data-pt-rmt/lab-mysql-first-queries/commits/b2fb48cfae83a8fed6b62b4bcbed7e31109ad035/comments',\n",
       "  'author': {'login': 'ta-data-pt-rmt',\n",
       "   'id': 99891270,\n",
       "   'node_id': 'U_kgDOBfQ4Rg',\n",
       "   'avatar_url': 'https://avatars.githubusercontent.com/u/99891270?v=4',\n",
       "   'gravatar_id': '',\n",
       "   'url': 'https://api.github.com/users/ta-data-pt-rmt',\n",
       "   'html_url': 'https://github.com/ta-data-pt-rmt',\n",
       "   'followers_url': 'https://api.github.com/users/ta-data-pt-rmt/followers',\n",
       "   'following_url': 'https://api.github.com/users/ta-data-pt-rmt/following{/other_user}',\n",
       "   'gists_url': 'https://api.github.com/users/ta-data-pt-rmt/gists{/gist_id}',\n",
       "   'starred_url': 'https://api.github.com/users/ta-data-pt-rmt/starred{/owner}{/repo}',\n",
       "   'subscriptions_url': 'https://api.github.com/users/ta-data-pt-rmt/subscriptions',\n",
       "   'organizations_url': 'https://api.github.com/users/ta-data-pt-rmt/orgs',\n",
       "   'repos_url': 'https://api.github.com/users/ta-data-pt-rmt/repos',\n",
       "   'events_url': 'https://api.github.com/users/ta-data-pt-rmt/events{/privacy}',\n",
       "   'received_events_url': 'https://api.github.com/users/ta-data-pt-rmt/received_events',\n",
       "   'type': 'User',\n",
       "   'site_admin': False},\n",
       "  'committer': {'login': 'web-flow',\n",
       "   'id': 19864447,\n",
       "   'node_id': 'MDQ6VXNlcjE5ODY0NDQ3',\n",
       "   'avatar_url': 'https://avatars.githubusercontent.com/u/19864447?v=4',\n",
       "   'gravatar_id': '',\n",
       "   'url': 'https://api.github.com/users/web-flow',\n",
       "   'html_url': 'https://github.com/web-flow',\n",
       "   'followers_url': 'https://api.github.com/users/web-flow/followers',\n",
       "   'following_url': 'https://api.github.com/users/web-flow/following{/other_user}',\n",
       "   'gists_url': 'https://api.github.com/users/web-flow/gists{/gist_id}',\n",
       "   'starred_url': 'https://api.github.com/users/web-flow/starred{/owner}{/repo}',\n",
       "   'subscriptions_url': 'https://api.github.com/users/web-flow/subscriptions',\n",
       "   'organizations_url': 'https://api.github.com/users/web-flow/orgs',\n",
       "   'repos_url': 'https://api.github.com/users/web-flow/repos',\n",
       "   'events_url': 'https://api.github.com/users/web-flow/events{/privacy}',\n",
       "   'received_events_url': 'https://api.github.com/users/web-flow/received_events',\n",
       "   'type': 'User',\n",
       "   'site_admin': False},\n",
       "  'parents': [{'sha': '0e1ba0f7d937f1a1c88f578f052803e193440c27',\n",
       "    'url': 'https://api.github.com/repos/ta-data-pt-rmt/lab-mysql-first-queries/commits/0e1ba0f7d937f1a1c88f578f052803e193440c27',\n",
       "    'html_url': 'https://github.com/ta-data-pt-rmt/lab-mysql-first-queries/commit/0e1ba0f7d937f1a1c88f578f052803e193440c27'}]},\n",
       " {'sha': '0e1ba0f7d937f1a1c88f578f052803e193440c27',\n",
       "  'node_id': 'C_kwDOHB089NoAKDBlMWJhMGY3ZDkzN2YxYTFjODhmNTc4ZjA1MjgwM2UxOTM0NDBjMjc',\n",
       "  'commit': {'author': {'name': 'ta-data-pt-rmt',\n",
       "    'email': '99891270+ta-data-pt-rmt@users.noreply.github.com',\n",
       "    'date': '2022-03-31T18:04:49Z'},\n",
       "   'committer': {'name': 'GitHub',\n",
       "    'email': 'noreply@github.com',\n",
       "    'date': '2022-03-31T18:04:49Z'},\n",
       "   'message': 'Update README.md',\n",
       "   'tree': {'sha': '3983444079670a5e4da2de74ba243f39a2b1fa5a',\n",
       "    'url': 'https://api.github.com/repos/ta-data-pt-rmt/lab-mysql-first-queries/git/trees/3983444079670a5e4da2de74ba243f39a2b1fa5a'},\n",
       "   'url': 'https://api.github.com/repos/ta-data-pt-rmt/lab-mysql-first-queries/git/commits/0e1ba0f7d937f1a1c88f578f052803e193440c27',\n",
       "   'comment_count': 0,\n",
       "   'verification': {'verified': True,\n",
       "    'reason': 'valid',\n",
       "    'signature': '-----BEGIN PGP SIGNATURE-----\\n\\nwsBcBAABCAAQBQJiRe1BCRBK7hj4Ov3rIwAARbAIAJJf9A4pjKHJcdGUyGRybw4g\\nhmc+WV+7hF0cL+juOd2R+Nnlm0g6kLK4Fnh/+6/crj/Pr49/QWnu0C87WOTjZgoO\\n9qWB1F6CP70cZSo+R5DHhBHKwoYmiKXTIoWXncwIlT8Geq2dXCsG6WaNHO+F0RHl\\ni2cNDg+xqDv5wDoYT++acORgFyqDkn0F78irgxKX/hMIh+u5iSWdsLyAnyis6fPz\\nknVSLpRxAvsygy+r1vA2yHC60VD8x3WGhJvgqwqKIy2o66K2K7MRK9zzqhk25wOe\\nb6tw4TFGP6DETWyGdA7Ta4S7mYUqthdBEwYTu2JDLQupmcoAD5J8SNPIz0wk+ng=\\n=tlUa\\n-----END PGP SIGNATURE-----\\n',\n",
       "    'payload': 'tree 3983444079670a5e4da2de74ba243f39a2b1fa5a\\nparent 93b5ce69f2ce8dc6513e90bcbf672a1f14c944bd\\nauthor ta-data-pt-rmt <99891270+ta-data-pt-rmt@users.noreply.github.com> 1648749889 +0100\\ncommitter GitHub <noreply@github.com> 1648749889 +0100\\n\\nUpdate README.md'}},\n",
       "  'url': 'https://api.github.com/repos/ta-data-pt-rmt/lab-mysql-first-queries/commits/0e1ba0f7d937f1a1c88f578f052803e193440c27',\n",
       "  'html_url': 'https://github.com/ta-data-pt-rmt/lab-mysql-first-queries/commit/0e1ba0f7d937f1a1c88f578f052803e193440c27',\n",
       "  'comments_url': 'https://api.github.com/repos/ta-data-pt-rmt/lab-mysql-first-queries/commits/0e1ba0f7d937f1a1c88f578f052803e193440c27/comments',\n",
       "  'author': {'login': 'ta-data-pt-rmt',\n",
       "   'id': 99891270,\n",
       "   'node_id': 'U_kgDOBfQ4Rg',\n",
       "   'avatar_url': 'https://avatars.githubusercontent.com/u/99891270?v=4',\n",
       "   'gravatar_id': '',\n",
       "   'url': 'https://api.github.com/users/ta-data-pt-rmt',\n",
       "   'html_url': 'https://github.com/ta-data-pt-rmt',\n",
       "   'followers_url': 'https://api.github.com/users/ta-data-pt-rmt/followers',\n",
       "   'following_url': 'https://api.github.com/users/ta-data-pt-rmt/following{/other_user}',\n",
       "   'gists_url': 'https://api.github.com/users/ta-data-pt-rmt/gists{/gist_id}',\n",
       "   'starred_url': 'https://api.github.com/users/ta-data-pt-rmt/starred{/owner}{/repo}',\n",
       "   'subscriptions_url': 'https://api.github.com/users/ta-data-pt-rmt/subscriptions',\n",
       "   'organizations_url': 'https://api.github.com/users/ta-data-pt-rmt/orgs',\n",
       "   'repos_url': 'https://api.github.com/users/ta-data-pt-rmt/repos',\n",
       "   'events_url': 'https://api.github.com/users/ta-data-pt-rmt/events{/privacy}',\n",
       "   'received_events_url': 'https://api.github.com/users/ta-data-pt-rmt/received_events',\n",
       "   'type': 'User',\n",
       "   'site_admin': False},\n",
       "  'committer': {'login': 'web-flow',\n",
       "   'id': 19864447,\n",
       "   'node_id': 'MDQ6VXNlcjE5ODY0NDQ3',\n",
       "   'avatar_url': 'https://avatars.githubusercontent.com/u/19864447?v=4',\n",
       "   'gravatar_id': '',\n",
       "   'url': 'https://api.github.com/users/web-flow',\n",
       "   'html_url': 'https://github.com/web-flow',\n",
       "   'followers_url': 'https://api.github.com/users/web-flow/followers',\n",
       "   'following_url': 'https://api.github.com/users/web-flow/following{/other_user}',\n",
       "   'gists_url': 'https://api.github.com/users/web-flow/gists{/gist_id}',\n",
       "   'starred_url': 'https://api.github.com/users/web-flow/starred{/owner}{/repo}',\n",
       "   'subscriptions_url': 'https://api.github.com/users/web-flow/subscriptions',\n",
       "   'organizations_url': 'https://api.github.com/users/web-flow/orgs',\n",
       "   'repos_url': 'https://api.github.com/users/web-flow/repos',\n",
       "   'events_url': 'https://api.github.com/users/web-flow/events{/privacy}',\n",
       "   'received_events_url': 'https://api.github.com/users/web-flow/received_events',\n",
       "   'type': 'User',\n",
       "   'site_admin': False},\n",
       "  'parents': [{'sha': '93b5ce69f2ce8dc6513e90bcbf672a1f14c944bd',\n",
       "    'url': 'https://api.github.com/repos/ta-data-pt-rmt/lab-mysql-first-queries/commits/93b5ce69f2ce8dc6513e90bcbf672a1f14c944bd',\n",
       "    'html_url': 'https://github.com/ta-data-pt-rmt/lab-mysql-first-queries/commit/93b5ce69f2ce8dc6513e90bcbf672a1f14c944bd'}]},\n",
       " {'sha': '93b5ce69f2ce8dc6513e90bcbf672a1f14c944bd',\n",
       "  'node_id': 'C_kwDOHB089NoAKDkzYjVjZTY5ZjJjZThkYzY1MTNlOTBiY2JmNjcyYTFmMTRjOTQ0YmQ',\n",
       "  'commit': {'author': {'name': 'ta-data-pt-rmt',\n",
       "    'email': '99891270+ta-data-pt-rmt@users.noreply.github.com',\n",
       "    'date': '2022-03-19T11:41:30Z'},\n",
       "   'committer': {'name': 'GitHub',\n",
       "    'email': 'noreply@github.com',\n",
       "    'date': '2022-03-19T11:41:30Z'},\n",
       "   'message': 'Add files via upload',\n",
       "   'tree': {'sha': '9e05f39c9d63edc892fb92345ca541df48ca0d30',\n",
       "    'url': 'https://api.github.com/repos/ta-data-pt-rmt/lab-mysql-first-queries/git/trees/9e05f39c9d63edc892fb92345ca541df48ca0d30'},\n",
       "   'url': 'https://api.github.com/repos/ta-data-pt-rmt/lab-mysql-first-queries/git/commits/93b5ce69f2ce8dc6513e90bcbf672a1f14c944bd',\n",
       "   'comment_count': 0,\n",
       "   'verification': {'verified': True,\n",
       "    'reason': 'valid',\n",
       "    'signature': '-----BEGIN PGP SIGNATURE-----\\n\\nwsBcBAABCAAQBQJiNcFqCRBK7hj4Ov3rIwAAVNUIAIFrJNYGam9KFm/0pfruwXuF\\nRcsS6D77QhDovLUenZXejSTU7LkswJ+S18rnn/KPDAmcfg9HtNm1iWNLS6UBVfDj\\nDuQgKKDYghs3j0HSjslamqNgWmU3Vk6ycU+BRuMkspzVdMctj0nmqbREEWf9cqW2\\nfK3MCc7tHQeBMORQsitjQeDfAFsWbAnUP1mA7iEEhPSB602CKVXOuM3dY4RIqP3P\\n5N3nKm1O2gml9dfxwbY1s9mi8js0BFi2o6tyZKG2fAbGqLWywrGiulvvaP5RzBJr\\nMiWJLjEX9IQXWPbuATh0+eUltcFZQQRTXO3yOBADyoRMb/EZe7o5AP1Pj1EdR2c=\\n=7PBb\\n-----END PGP SIGNATURE-----\\n',\n",
       "    'payload': 'tree 9e05f39c9d63edc892fb92345ca541df48ca0d30\\nauthor ta-data-pt-rmt <99891270+ta-data-pt-rmt@users.noreply.github.com> 1647690090 +0000\\ncommitter GitHub <noreply@github.com> 1647690090 +0000\\n\\nAdd files via upload'}},\n",
       "  'url': 'https://api.github.com/repos/ta-data-pt-rmt/lab-mysql-first-queries/commits/93b5ce69f2ce8dc6513e90bcbf672a1f14c944bd',\n",
       "  'html_url': 'https://github.com/ta-data-pt-rmt/lab-mysql-first-queries/commit/93b5ce69f2ce8dc6513e90bcbf672a1f14c944bd',\n",
       "  'comments_url': 'https://api.github.com/repos/ta-data-pt-rmt/lab-mysql-first-queries/commits/93b5ce69f2ce8dc6513e90bcbf672a1f14c944bd/comments',\n",
       "  'author': {'login': 'ta-data-pt-rmt',\n",
       "   'id': 99891270,\n",
       "   'node_id': 'U_kgDOBfQ4Rg',\n",
       "   'avatar_url': 'https://avatars.githubusercontent.com/u/99891270?v=4',\n",
       "   'gravatar_id': '',\n",
       "   'url': 'https://api.github.com/users/ta-data-pt-rmt',\n",
       "   'html_url': 'https://github.com/ta-data-pt-rmt',\n",
       "   'followers_url': 'https://api.github.com/users/ta-data-pt-rmt/followers',\n",
       "   'following_url': 'https://api.github.com/users/ta-data-pt-rmt/following{/other_user}',\n",
       "   'gists_url': 'https://api.github.com/users/ta-data-pt-rmt/gists{/gist_id}',\n",
       "   'starred_url': 'https://api.github.com/users/ta-data-pt-rmt/starred{/owner}{/repo}',\n",
       "   'subscriptions_url': 'https://api.github.com/users/ta-data-pt-rmt/subscriptions',\n",
       "   'organizations_url': 'https://api.github.com/users/ta-data-pt-rmt/orgs',\n",
       "   'repos_url': 'https://api.github.com/users/ta-data-pt-rmt/repos',\n",
       "   'events_url': 'https://api.github.com/users/ta-data-pt-rmt/events{/privacy}',\n",
       "   'received_events_url': 'https://api.github.com/users/ta-data-pt-rmt/received_events',\n",
       "   'type': 'User',\n",
       "   'site_admin': False},\n",
       "  'committer': {'login': 'web-flow',\n",
       "   'id': 19864447,\n",
       "   'node_id': 'MDQ6VXNlcjE5ODY0NDQ3',\n",
       "   'avatar_url': 'https://avatars.githubusercontent.com/u/19864447?v=4',\n",
       "   'gravatar_id': '',\n",
       "   'url': 'https://api.github.com/users/web-flow',\n",
       "   'html_url': 'https://github.com/web-flow',\n",
       "   'followers_url': 'https://api.github.com/users/web-flow/followers',\n",
       "   'following_url': 'https://api.github.com/users/web-flow/following{/other_user}',\n",
       "   'gists_url': 'https://api.github.com/users/web-flow/gists{/gist_id}',\n",
       "   'starred_url': 'https://api.github.com/users/web-flow/starred{/owner}{/repo}',\n",
       "   'subscriptions_url': 'https://api.github.com/users/web-flow/subscriptions',\n",
       "   'organizations_url': 'https://api.github.com/users/web-flow/orgs',\n",
       "   'repos_url': 'https://api.github.com/users/web-flow/repos',\n",
       "   'events_url': 'https://api.github.com/users/web-flow/events{/privacy}',\n",
       "   'received_events_url': 'https://api.github.com/users/web-flow/received_events',\n",
       "   'type': 'User',\n",
       "   'site_admin': False},\n",
       "  'parents': []}]"
      ]
     },
     "execution_count": 38,
     "metadata": {},
     "output_type": "execute_result"
    }
   ],
   "source": [
    "response_commits.json()"
   ]
  },
  {
   "cell_type": "code",
   "execution_count": 39,
   "id": "d9891d94",
   "metadata": {},
   "outputs": [
    {
     "name": "stdout",
     "output_type": "stream",
     "text": [
      "Number of commits: 3\n"
     ]
    }
   ],
   "source": [
    "if response_commits.status_code == 200:\n",
    "    res_com = response_commits.json()\n",
    "    com_count = len(res_com)\n",
    "    print(f\"Number of commits: {com_count}\")\n",
    "else:\n",
    "    print(f\"Error: {response_commits.status_code}\")"
   ]
  }
 ],
 "metadata": {
  "kernelspec": {
   "display_name": "Python 3",
   "language": "python",
   "name": "python3"
  },
  "language_info": {
   "codemirror_mode": {
    "name": "ipython",
    "version": 3
   },
   "file_extension": ".py",
   "mimetype": "text/x-python",
   "name": "python",
   "nbconvert_exporter": "python",
   "pygments_lexer": "ipython3",
   "version": "3.11.5"
  }
 },
 "nbformat": 4,
 "nbformat_minor": 5
}
